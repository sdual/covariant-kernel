{
 "cells": [
  {
   "cell_type": "code",
   "execution_count": 1,
   "id": "5140c53b-d02e-4bcb-bb59-365ab42f3846",
   "metadata": {},
   "outputs": [
    {
     "name": "stdout",
     "output_type": "stream",
     "text": [
      "Collecting qulacs\n",
      "  Using cached Qulacs-0.3.0-cp39-cp39-macosx_10_9_x86_64.whl (1.2 MB)\n",
      "Installing collected packages: qulacs\n",
      "Successfully installed qulacs-0.3.0\n"
     ]
    }
   ],
   "source": [
    "!pip install qulacs"
   ]
  },
  {
   "cell_type": "markdown",
   "id": "e4d98732-19d0-4584-99de-cc539e90bb84",
   "metadata": {},
   "source": [
    "## 量子回路を構築する"
   ]
  },
  {
   "cell_type": "code",
   "execution_count": 2,
   "id": "b03bc205-25df-4c02-936f-869dccaa6c39",
   "metadata": {},
   "outputs": [],
   "source": [
    "from qulacs import ParametricQuantumCircuit"
   ]
  },
  {
   "cell_type": "code",
   "execution_count": 4,
   "id": "f36a14eb-2f97-4950-a751-993fd92ddaf9",
   "metadata": {},
   "outputs": [],
   "source": [
    "num_qubit = 4\n",
    "cirucit = ParametricQuantumCircuit(num_qubit)"
   ]
  },
  {
   "cell_type": "code",
   "execution_count": 7,
   "id": "cdceb69f-b511-46b0-a90f-a5ad31b2f2ba",
   "metadata": {},
   "outputs": [],
   "source": [
    "cirucit.add_X_gate(0)"
   ]
  },
  {
   "cell_type": "code",
   "execution_count": 8,
   "id": "6f10769f-ad60-4ea5-83ae-368a0c9ca0e0",
   "metadata": {},
   "outputs": [],
   "source": [
    "cirucit.add_Y_gate(1)"
   ]
  },
  {
   "cell_type": "code",
   "execution_count": null,
   "id": "64ca506c-86b9-4586-8cd1-089761d8453d",
   "metadata": {},
   "outputs": [],
   "source": []
  },
  {
   "cell_type": "markdown",
   "id": "85e8111f-7622-4b91-9053-9dd81064e860",
   "metadata": {},
   "source": [
    "## 量子状態を定義する"
   ]
  },
  {
   "cell_type": "code",
   "execution_count": 10,
   "id": "960481c1-d8f2-4fb4-af6e-7905cc6289fa",
   "metadata": {},
   "outputs": [],
   "source": [
    "from qulacs import QuantumState"
   ]
  },
  {
   "cell_type": "code",
   "execution_count": 11,
   "id": "cf2b3203-769e-43f6-be65-2455322a8cff",
   "metadata": {},
   "outputs": [],
   "source": [
    "quantum_state = QuantumState(num_qubit)"
   ]
  },
  {
   "cell_type": "code",
   "execution_count": 12,
   "id": "fa730c11-fc38-4ba7-8fda-742e05b91091",
   "metadata": {},
   "outputs": [],
   "source": [
    "quantum_state.set_zero_state()"
   ]
  },
  {
   "cell_type": "code",
   "execution_count": 13,
   "id": "cd5acfb5-e00b-4e95-852b-988aa69cd997",
   "metadata": {},
   "outputs": [],
   "source": [
    "cirucit.update_quantum_state(quantum_state)"
   ]
  },
  {
   "cell_type": "markdown",
   "id": "ca8a760d-170a-4060-a29b-67033e5ccebd",
   "metadata": {},
   "source": [
    "## オブザーバブルを指定して測定"
   ]
  },
  {
   "cell_type": "code",
   "execution_count": 14,
   "id": "7567ade3-6524-4dc3-8243-555b8d0af732",
   "metadata": {},
   "outputs": [],
   "source": [
    "from qulacs import Observable"
   ]
  },
  {
   "cell_type": "code",
   "execution_count": 15,
   "id": "de5e32fc-602a-41c4-aa47-33d7f5127e8c",
   "metadata": {},
   "outputs": [],
   "source": [
    "obs = Observable(num_qubit)"
   ]
  },
  {
   "cell_type": "code",
   "execution_count": 16,
   "id": "6770d42c-1426-46d3-bde3-948178c1d66f",
   "metadata": {},
   "outputs": [],
   "source": [
    "obs.add_operator(1.0, \"Z 0\")"
   ]
  },
  {
   "cell_type": "code",
   "execution_count": 17,
   "id": "1a5ca541-7014-4757-8659-a7f504fd890a",
   "metadata": {},
   "outputs": [
    {
     "data": {
      "text/plain": [
       "-1.0"
      ]
     },
     "execution_count": 17,
     "metadata": {},
     "output_type": "execute_result"
    }
   ],
   "source": [
    "obs.get_expectation_value(quantum_state)"
   ]
  },
  {
   "cell_type": "markdown",
   "id": "e383e783-ebc2-4b55-bbc8-500fa32e8dfd",
   "metadata": {},
   "source": [
    "## 量子状態の内積をとる"
   ]
  },
  {
   "cell_type": "code",
   "execution_count": 19,
   "id": "ea04a408-d61c-43c0-89f1-459e2468e8e4",
   "metadata": {},
   "outputs": [],
   "source": [
    "cirucit1 = ParametricQuantumCircuit(num_qubit)\n",
    "circuit2 = ParametricQuantumCircuit(num_qubit)"
   ]
  },
  {
   "cell_type": "code",
   "execution_count": 25,
   "id": "1d56eecc-9b65-4e39-84b7-f2ac5c7a1bb3",
   "metadata": {},
   "outputs": [],
   "source": [
    "cirucit1.add_X_gate(0)\n",
    "circuit2.add_Y_gate(0)"
   ]
  },
  {
   "cell_type": "code",
   "execution_count": 26,
   "id": "b1548084-250e-4e6e-a66a-436b339c81f0",
   "metadata": {},
   "outputs": [],
   "source": [
    "quantum_state1 = QuantumState(num_qubit)\n",
    "quantum_state2 = QuantumState(num_qubit)"
   ]
  },
  {
   "cell_type": "code",
   "execution_count": 27,
   "id": "d549e8fe-031d-4aae-9e43-665193defc40",
   "metadata": {},
   "outputs": [],
   "source": [
    "quantum_state1.set_zero_state()\n",
    "quantum_state2.set_zero_state()"
   ]
  },
  {
   "cell_type": "code",
   "execution_count": 28,
   "id": "fd92fcb7-9f47-4089-8c51-133e1ee80454",
   "metadata": {},
   "outputs": [],
   "source": [
    "cirucit1.update_quantum_state(quantum_state1)\n",
    "circuit2.update_quantum_state(quantum_state2)"
   ]
  },
  {
   "cell_type": "code",
   "execution_count": 29,
   "id": "6d1d29ee-925c-4a58-8c8b-b0dbf277af36",
   "metadata": {},
   "outputs": [],
   "source": [
    "from qulacs.state import inner_product"
   ]
  },
  {
   "cell_type": "code",
   "execution_count": 33,
   "id": "142e742d-ac3f-4b2d-b037-e50bf375449a",
   "metadata": {},
   "outputs": [],
   "source": [
    "kernel = inner_product(quantum_state1, quantum_state2) ** 2"
   ]
  },
  {
   "cell_type": "code",
   "execution_count": 34,
   "id": "c133e598-77fe-4a84-b3f7-0b429a6d8bcc",
   "metadata": {},
   "outputs": [
    {
     "data": {
      "text/plain": [
       "0j"
      ]
     },
     "execution_count": 34,
     "metadata": {},
     "output_type": "execute_result"
    }
   ],
   "source": [
    "kernel"
   ]
  },
  {
   "cell_type": "code",
   "execution_count": null,
   "id": "82c5e7fd-f437-4f9b-98b2-484dca16ecb1",
   "metadata": {},
   "outputs": [],
   "source": []
  }
 ],
 "metadata": {
  "kernelspec": {
   "display_name": "Python 3 (ipykernel)",
   "language": "python",
   "name": "python3"
  },
  "language_info": {
   "codemirror_mode": {
    "name": "ipython",
    "version": 3
   },
   "file_extension": ".py",
   "mimetype": "text/x-python",
   "name": "python",
   "nbconvert_exporter": "python",
   "pygments_lexer": "ipython3",
   "version": "3.9.4"
  }
 },
 "nbformat": 4,
 "nbformat_minor": 5
}
